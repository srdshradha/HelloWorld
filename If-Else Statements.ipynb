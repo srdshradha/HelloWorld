{
 "cells": [
  {
   "cell_type": "markdown",
   "id": "characteristic-uncle",
   "metadata": {},
   "source": [
    "# If-Else Statements"
   ]
  },
  {
   "cell_type": "code",
   "execution_count": null,
   "id": "attended-entry",
   "metadata": {},
   "outputs": [],
   "source": [
    "Decision Making Statement\n",
    "Conditional Statement"
   ]
  },
  {
   "cell_type": "code",
   "execution_count": null,
   "id": "guided-mouse",
   "metadata": {},
   "outputs": [],
   "source": [
    "if \n",
    "elif\n",
    "else"
   ]
  },
  {
   "cell_type": "code",
   "execution_count": null,
   "id": "straight-complexity",
   "metadata": {},
   "outputs": [],
   "source": [
    "if condition1:  # condition >> True/False\n",
    "    Block of code\n",
    "    statement1\n",
    "    statement2\n",
    "    statement3\n",
    "    \n",
    "elif condition2: # condition2 >> True or False\n",
    "    statement4\n",
    "    statement5\n",
    "    statement6\n",
    "    \n",
    "else:\n",
    "    statement7\n",
    "    statement8\n",
    "    \n",
    "print('Hello')"
   ]
  },
  {
   "cell_type": "code",
   "execution_count": null,
   "id": "cubic-luther",
   "metadata": {},
   "outputs": [],
   "source": [
    "if condition1:  # True\n",
    "    Block of code\n",
    "    statement1\n",
    "    statement2\n",
    "    statement3\n",
    "    \n",
    "elif condition2: # True/False\n",
    "    statement4\n",
    "    statement5\n",
    "    statement6\n",
    "    \n",
    "elif condition3: # True\n",
    "    statement4\n",
    "    statement5\n",
    "    statement6\n",
    "        \n",
    "else:\n",
    "    statement7\n",
    "    statement8"
   ]
  },
  {
   "cell_type": "code",
   "execution_count": null,
   "id": "cross-accommodation",
   "metadata": {},
   "outputs": [],
   "source": [
    "if \n",
    "if >> elif\n",
    "if >> elif >> elif\n",
    "if >> elif >> else\n",
    "if >> elif >> elif >> elif >> else\n",
    "if >> else\n",
    "\n",
    "elif >> elif\n",
    "if >> if "
   ]
  },
  {
   "cell_type": "code",
   "execution_count": 16,
   "id": "czech-silence",
   "metadata": {},
   "outputs": [
    {
     "name": "stdout",
     "output_type": "stream",
     "text": [
      "a is greater than c\n"
     ]
    }
   ],
   "source": [
    "a = 45\n",
    "b = 50\n",
    "c = 40\n",
    "\n",
    "if a > b: # False\n",
    "    print(\"a is greater than b\")\n",
    "    \n",
    "elif a > c  : # True\n",
    "    print(\"a is greater than c\")\n",
    "    \n"
   ]
  },
  {
   "cell_type": "code",
   "execution_count": 18,
   "id": "broad-dutch",
   "metadata": {},
   "outputs": [
    {
     "name": "stdout",
     "output_type": "stream",
     "text": [
      "y is greater than or equal to x\n"
     ]
    }
   ],
   "source": [
    "x = 50\n",
    "y = 60\n",
    "\n",
    "if x > y:\n",
    "    print(\"x is greater than y\")\n",
    "    \n",
    "else:\n",
    "    print(\"y is greater than or equal to x\")"
   ]
  },
  {
   "cell_type": "code",
   "execution_count": 20,
   "id": "proper-roberts",
   "metadata": {},
   "outputs": [
    {
     "name": "stdout",
     "output_type": "stream",
     "text": [
      "x is greater than y\n"
     ]
    }
   ],
   "source": [
    "x = 500\n",
    "y = 60\n",
    "\n",
    "if x > y:\n",
    "    print(\"x is greater than y\")\n",
    "    \n",
    "else:\n",
    "    print(\"y is greater than or equal to x\")"
   ]
  },
  {
   "cell_type": "code",
   "execution_count": 21,
   "id": "promotional-hydrogen",
   "metadata": {},
   "outputs": [
    {
     "name": "stdout",
     "output_type": "stream",
     "text": [
      "y is greater than or equal to x\n"
     ]
    }
   ],
   "source": [
    "x = 500\n",
    "y = 500\n",
    "\n",
    "if x > y:\n",
    "    print(\"x is greater than y\")\n",
    "    \n",
    "else:\n",
    "    print(\"y is greater than or equal to x\")"
   ]
  },
  {
   "cell_type": "code",
   "execution_count": 25,
   "id": "commercial-strengthening",
   "metadata": {},
   "outputs": [
    {
     "name": "stdout",
     "output_type": "stream",
     "text": [
      "x is greater than y\n",
      "x is equal to y\n"
     ]
    }
   ],
   "source": [
    "x = 5000\n",
    "y = 500\n",
    "\n",
    "if x > y:\n",
    "    print(\"x is greater than y\")\n",
    "    \n",
    "if x > y: \n",
    "    print(\"x is equal to y\")\n",
    "    \n",
    "else:\n",
    "    print(\"y is greater than or equal to x\")"
   ]
  },
  {
   "cell_type": "code",
   "execution_count": 27,
   "id": "statutory-thing",
   "metadata": {},
   "outputs": [
    {
     "name": "stdout",
     "output_type": "stream",
     "text": [
      "String is in lower case\n"
     ]
    }
   ],
   "source": [
    "string = 'python'\n",
    "if string.islower() :\n",
    "    print(\"String is in lower case\")\n",
    "    \n",
    "else:\n",
    "    print(\"String is not in lower case\")"
   ]
  },
  {
   "cell_type": "code",
   "execution_count": 29,
   "id": "limited-closer",
   "metadata": {},
   "outputs": [
    {
     "name": "stdout",
     "output_type": "stream",
     "text": [
      "String is not in lower case\n"
     ]
    }
   ],
   "source": [
    "string = 'Python'\n",
    "if string.islower() :\n",
    "    print(\"String is in lower case\")\n",
    "    \n",
    "else:\n",
    "    print(\"String is not in lower case\")"
   ]
  },
  {
   "cell_type": "code",
   "execution_count": 31,
   "id": "different-screening",
   "metadata": {},
   "outputs": [
    {
     "name": "stdout",
     "output_type": "stream",
     "text": [
      "String is in title case\n"
     ]
    }
   ],
   "source": [
    "string = 'Data Science'\n",
    "if string.istitle() :\n",
    "    print(\"String is in title case\")\n",
    "    \n",
    "else:\n",
    "    print(\"String is not in title case\")"
   ]
  },
  {
   "cell_type": "code",
   "execution_count": 32,
   "id": "rapid-roberts",
   "metadata": {},
   "outputs": [
    {
     "name": "stdout",
     "output_type": "stream",
     "text": [
      "String is not in title case\n"
     ]
    }
   ],
   "source": [
    "string = 'Data science'\n",
    "if string.istitle() :\n",
    "    print(\"String is in title case\")\n",
    "    \n",
    "else:\n",
    "    print(\"String is not in title case\")"
   ]
  },
  {
   "cell_type": "markdown",
   "id": "exposed-charlotte",
   "metadata": {},
   "source": [
    "# Operators"
   ]
  },
  {
   "cell_type": "markdown",
   "id": "appropriate-limitation",
   "metadata": {},
   "source": [
    "## 1. Comparison Operator"
   ]
  },
  {
   "cell_type": "code",
   "execution_count": null,
   "id": "rocky-turtle",
   "metadata": {},
   "outputs": [],
   "source": [
    "a == b  # Equal operator\n",
    "a != b  # Not equal\n",
    "a > b   # greater than\n",
    "a < b   # less than\n",
    "a >= b  # greater than or equal\n",
    "a <= b  # Less than or equal "
   ]
  },
  {
   "cell_type": "code",
   "execution_count": 39,
   "id": "aggressive-clear",
   "metadata": {},
   "outputs": [
    {
     "data": {
      "text/plain": [
       "True"
      ]
     },
     "execution_count": 39,
     "metadata": {},
     "output_type": "execute_result"
    }
   ],
   "source": [
    "a = 5\n",
    "b = 5\n",
    "a == b"
   ]
  },
  {
   "cell_type": "code",
   "execution_count": 41,
   "id": "funded-shuttle",
   "metadata": {},
   "outputs": [
    {
     "data": {
      "text/plain": [
       "True"
      ]
     },
     "execution_count": 41,
     "metadata": {},
     "output_type": "execute_result"
    }
   ],
   "source": [
    "a = 3.14\n",
    "b = 3.14\n",
    "a == b"
   ]
  },
  {
   "cell_type": "code",
   "execution_count": 42,
   "id": "tough-dubai",
   "metadata": {},
   "outputs": [
    {
     "data": {
      "text/plain": [
       "False"
      ]
     },
     "execution_count": 42,
     "metadata": {},
     "output_type": "execute_result"
    }
   ],
   "source": [
    "a = 3.145\n",
    "b = 3.14\n",
    "a == b"
   ]
  },
  {
   "cell_type": "code",
   "execution_count": 36,
   "id": "alleged-consortium",
   "metadata": {},
   "outputs": [
    {
     "data": {
      "text/plain": [
       "True"
      ]
     },
     "execution_count": 36,
     "metadata": {},
     "output_type": "execute_result"
    }
   ],
   "source": [
    "a = 'python'\n",
    "b = 'python'\n",
    "a == b"
   ]
  },
  {
   "cell_type": "code",
   "execution_count": 38,
   "id": "spectacular-medication",
   "metadata": {},
   "outputs": [
    {
     "data": {
      "text/plain": [
       "False"
      ]
     },
     "execution_count": 38,
     "metadata": {},
     "output_type": "execute_result"
    }
   ],
   "source": [
    "a = 'python'\n",
    "b = 'python '\n",
    "a == b"
   ]
  },
  {
   "cell_type": "code",
   "execution_count": 45,
   "id": "standard-faith",
   "metadata": {},
   "outputs": [
    {
     "name": "stdout",
     "output_type": "stream",
     "text": [
      "Both strings are equal\n"
     ]
    }
   ],
   "source": [
    "a = 'python'\n",
    "b = 'python'\n",
    "if a == b:\n",
    "    print(\"Both strings are equal\")\n",
    "    \n",
    "else:\n",
    "    print(\"Strings are different\")"
   ]
  },
  {
   "cell_type": "code",
   "execution_count": 46,
   "id": "nominated-psychology",
   "metadata": {},
   "outputs": [
    {
     "name": "stdout",
     "output_type": "stream",
     "text": [
      "Strings are different\n"
     ]
    }
   ],
   "source": [
    "a = 'python'\n",
    "b = 'Python'\n",
    "if a == b:\n",
    "    print(\"Both strings are equal\")\n",
    "    \n",
    "else:\n",
    "    print(\"Strings are different\")"
   ]
  },
  {
   "cell_type": "code",
   "execution_count": 48,
   "id": "similar-dividend",
   "metadata": {},
   "outputs": [
    {
     "data": {
      "text/plain": [
       "True"
      ]
     },
     "execution_count": 48,
     "metadata": {},
     "output_type": "execute_result"
    }
   ],
   "source": [
    "a = 5\n",
    "b = 6\n",
    "a == b\n",
    "a != b"
   ]
  },
  {
   "cell_type": "code",
   "execution_count": 50,
   "id": "manual-montana",
   "metadata": {},
   "outputs": [
    {
     "name": "stdout",
     "output_type": "stream",
     "text": [
      "Strings are different\n"
     ]
    }
   ],
   "source": [
    "a = 'python'\n",
    "b = 'Python'\n",
    "if a == b:\n",
    "    print(\"Both strings are equal\")\n",
    "    \n",
    "else:\n",
    "    print(\"Strings are different\")"
   ]
  },
  {
   "cell_type": "code",
   "execution_count": 55,
   "id": "dominican-mystery",
   "metadata": {},
   "outputs": [
    {
     "name": "stdout",
     "output_type": "stream",
     "text": [
      "Strings are different\n"
     ]
    }
   ],
   "source": [
    "a = 'python'\n",
    "b = 'data science'\n",
    "\n",
    "if a != b:\n",
    "    print(\"Strings are different\")\n",
    "    \n",
    "else:\n",
    "    print(\"Strings are same\")"
   ]
  },
  {
   "cell_type": "code",
   "execution_count": 56,
   "id": "prerequisite-algorithm",
   "metadata": {},
   "outputs": [
    {
     "name": "stdout",
     "output_type": "stream",
     "text": [
      "Strings are same\n"
     ]
    }
   ],
   "source": [
    "a = 'python'\n",
    "b = 'python'\n",
    "\n",
    "if a != b:\n",
    "    print(\"Strings are different\")\n",
    "    \n",
    "else:\n",
    "    print(\"Strings are same\")"
   ]
  },
  {
   "cell_type": "code",
   "execution_count": 59,
   "id": "seventh-large",
   "metadata": {},
   "outputs": [
    {
     "name": "stdout",
     "output_type": "stream",
     "text": [
      "a is greater than b\n"
     ]
    }
   ],
   "source": [
    "a = 10\n",
    "b = 5\n",
    "if a > b: # True\n",
    "    print(\"a is greater than b\")\n",
    "    "
   ]
  },
  {
   "cell_type": "code",
   "execution_count": 61,
   "id": "centered-private",
   "metadata": {},
   "outputs": [
    {
     "data": {
      "text/plain": [
       "True"
      ]
     },
     "execution_count": 61,
     "metadata": {},
     "output_type": "execute_result"
    }
   ],
   "source": [
    "100 > 30"
   ]
  },
  {
   "cell_type": "code",
   "execution_count": 63,
   "id": "taken-curve",
   "metadata": {},
   "outputs": [
    {
     "data": {
      "text/plain": [
       "False"
      ]
     },
     "execution_count": 63,
     "metadata": {},
     "output_type": "execute_result"
    }
   ],
   "source": [
    "100 > 100 # False"
   ]
  },
  {
   "cell_type": "code",
   "execution_count": 65,
   "id": "proved-blame",
   "metadata": {},
   "outputs": [
    {
     "data": {
      "text/plain": [
       "True"
      ]
     },
     "execution_count": 65,
     "metadata": {},
     "output_type": "execute_result"
    }
   ],
   "source": [
    "50 > 40"
   ]
  },
  {
   "cell_type": "code",
   "execution_count": 70,
   "id": "after-hungary",
   "metadata": {},
   "outputs": [
    {
     "data": {
      "text/plain": [
       "False"
      ]
     },
     "execution_count": 70,
     "metadata": {},
     "output_type": "execute_result"
    }
   ],
   "source": [
    "len(\"python\") > 10"
   ]
  },
  {
   "cell_type": "code",
   "execution_count": 72,
   "id": "indirect-disney",
   "metadata": {},
   "outputs": [
    {
     "data": {
      "text/plain": [
       "False"
      ]
     },
     "execution_count": 72,
     "metadata": {},
     "output_type": "execute_result"
    }
   ],
   "source": [
    "'python' > 'python'"
   ]
  },
  {
   "cell_type": "code",
   "execution_count": 74,
   "id": "level-subscriber",
   "metadata": {},
   "outputs": [
    {
     "data": {
      "text/plain": [
       "True"
      ]
     },
     "execution_count": 74,
     "metadata": {},
     "output_type": "execute_result"
    }
   ],
   "source": [
    "a = 10\n",
    "b = 5\n",
    "a >= b "
   ]
  },
  {
   "cell_type": "code",
   "execution_count": 76,
   "id": "hydraulic-invasion",
   "metadata": {},
   "outputs": [
    {
     "data": {
      "text/plain": [
       "True"
      ]
     },
     "execution_count": 76,
     "metadata": {},
     "output_type": "execute_result"
    }
   ],
   "source": [
    "a = 10\n",
    "b = 5\n",
    "a > b "
   ]
  },
  {
   "cell_type": "code",
   "execution_count": 78,
   "id": "alive-package",
   "metadata": {},
   "outputs": [
    {
     "data": {
      "text/plain": [
       "False"
      ]
     },
     "execution_count": 78,
     "metadata": {},
     "output_type": "execute_result"
    }
   ],
   "source": [
    "a = 10\n",
    "b = 10\n",
    "a > b # False"
   ]
  },
  {
   "cell_type": "code",
   "execution_count": 81,
   "id": "mighty-short",
   "metadata": {},
   "outputs": [
    {
     "name": "stdout",
     "output_type": "stream",
     "text": [
      "a is greater than or equal to b\n"
     ]
    }
   ],
   "source": [
    "a = 10\n",
    "b = 10\n",
    "a >= b \n",
    "\n",
    "if a >= b :\n",
    "    print(\"a is greater than or equal to b\")"
   ]
  },
  {
   "cell_type": "code",
   "execution_count": 83,
   "id": "acknowledged-anderson",
   "metadata": {},
   "outputs": [
    {
     "name": "stdout",
     "output_type": "stream",
     "text": [
      "a is greater than or equal to b\n"
     ]
    }
   ],
   "source": [
    "a = 10\n",
    "b = 5\n",
    "a >= b \n",
    "\n",
    "if a >= b :\n",
    "    print(\"a is greater than or equal to b\")"
   ]
  },
  {
   "cell_type": "code",
   "execution_count": 85,
   "id": "helpful-designer",
   "metadata": {},
   "outputs": [
    {
     "name": "stdout",
     "output_type": "stream",
     "text": [
      "a is less than or equal to b\n"
     ]
    }
   ],
   "source": [
    "a = 10\n",
    "b = 50\n",
    "a <= b \n",
    "\n",
    "if a <= b :\n",
    "    print(\"a is less than or equal to b\")"
   ]
  },
  {
   "cell_type": "code",
   "execution_count": 86,
   "id": "angry-exchange",
   "metadata": {},
   "outputs": [
    {
     "name": "stdout",
     "output_type": "stream",
     "text": [
      "a is less than or equal to b\n"
     ]
    }
   ],
   "source": [
    "a = 50\n",
    "b = 50\n",
    "a <= b \n",
    "\n",
    "if a <= b :\n",
    "    print(\"a is less than or equal to b\")"
   ]
  },
  {
   "cell_type": "code",
   "execution_count": 88,
   "id": "athletic-compensation",
   "metadata": {},
   "outputs": [
    {
     "data": {
      "text/plain": [
       "True"
      ]
     },
     "execution_count": 88,
     "metadata": {},
     "output_type": "execute_result"
    }
   ],
   "source": [
    "string = 'data'\n",
    "length = len(string) \n",
    "length > 3"
   ]
  },
  {
   "cell_type": "code",
   "execution_count": 92,
   "id": "british-matter",
   "metadata": {},
   "outputs": [
    {
     "name": "stdout",
     "output_type": "stream",
     "text": [
      "String is in title case\n"
     ]
    }
   ],
   "source": [
    "string = 'Machine Learning'\n",
    "\n",
    "x = string.istitle()\n",
    "x\n",
    "if x:\n",
    "    print(\"String is in title case\")"
   ]
  },
  {
   "cell_type": "code",
   "execution_count": 93,
   "id": "intensive-grocery",
   "metadata": {},
   "outputs": [
    {
     "name": "stdout",
     "output_type": "stream",
     "text": [
      "String is in title case\n"
     ]
    }
   ],
   "source": [
    "string = 'Machine Learning'\n",
    "\n",
    "if string.istitle(): # True\n",
    "    print(\"String is in title case\")"
   ]
  },
  {
   "cell_type": "code",
   "execution_count": 95,
   "id": "inner-timothy",
   "metadata": {},
   "outputs": [
    {
     "name": "stdout",
     "output_type": "stream",
     "text": [
      "String is in title case\n",
      "Hello\n"
     ]
    }
   ],
   "source": [
    "string = 'Machine Learning'\n",
    "\n",
    "if string.istitle(): # True\n",
    "    print(\"String is in title case\")\n",
    "    \n",
    "print(\"Hello\")"
   ]
  },
  {
   "cell_type": "code",
   "execution_count": 96,
   "id": "growing-raleigh",
   "metadata": {},
   "outputs": [
    {
     "name": "stdout",
     "output_type": "stream",
     "text": [
      "Hello\n"
     ]
    }
   ],
   "source": [
    "string = 'Machine learning'\n",
    "\n",
    "if string.istitle(): # False\n",
    "    print(\"String is in title case\")\n",
    "    \n",
    "print(\"Hello\")"
   ]
  },
  {
   "cell_type": "code",
   "execution_count": 97,
   "id": "cooked-banana",
   "metadata": {},
   "outputs": [
    {
     "data": {
      "text/plain": [
       "True"
      ]
     },
     "execution_count": 97,
     "metadata": {},
     "output_type": "execute_result"
    }
   ],
   "source": [
    "a = 100\n",
    "a == 100"
   ]
  },
  {
   "cell_type": "code",
   "execution_count": 98,
   "id": "ceramic-publisher",
   "metadata": {},
   "outputs": [
    {
     "data": {
      "text/plain": [
       "False"
      ]
     },
     "execution_count": 98,
     "metadata": {},
     "output_type": "execute_result"
    }
   ],
   "source": [
    "a = 6\n",
    "b = 3.14\n",
    "\n",
    "a < b"
   ]
  },
  {
   "cell_type": "code",
   "execution_count": 99,
   "id": "threatened-building",
   "metadata": {},
   "outputs": [
    {
     "ename": "SyntaxError",
     "evalue": "invalid syntax (<ipython-input-99-66aa3d097787>, line 4)",
     "output_type": "error",
     "traceback": [
      "\u001b[1;36m  File \u001b[1;32m\"<ipython-input-99-66aa3d097787>\"\u001b[1;36m, line \u001b[1;32m4\u001b[0m\n\u001b[1;33m    if x < y\u001b[0m\n\u001b[1;37m            ^\u001b[0m\n\u001b[1;31mSyntaxError\u001b[0m\u001b[1;31m:\u001b[0m invalid syntax\n"
     ]
    }
   ],
   "source": [
    "x = 40\n",
    "y = 50\n",
    " \n",
    "if x < y"
   ]
  },
  {
   "cell_type": "code",
   "execution_count": 104,
   "id": "passing-production",
   "metadata": {},
   "outputs": [
    {
     "data": {
      "text/plain": [
       "True"
      ]
     },
     "execution_count": 104,
     "metadata": {},
     "output_type": "execute_result"
    }
   ],
   "source": [
    "a = 'python'\n",
    "b = 'machin'\n",
    "a == b\n",
    "a != b"
   ]
  },
  {
   "cell_type": "code",
   "execution_count": null,
   "id": "mexican-ordering",
   "metadata": {},
   "outputs": [],
   "source": []
  },
  {
   "cell_type": "code",
   "execution_count": 107,
   "id": "raised-message",
   "metadata": {},
   "outputs": [
    {
     "data": {
      "text/plain": [
       "True"
      ]
     },
     "execution_count": 107,
     "metadata": {},
     "output_type": "execute_result"
    }
   ],
   "source": [
    "a = 3 + 4j\n",
    "b = 3 + 4j\n",
    "a == b"
   ]
  },
  {
   "cell_type": "code",
   "execution_count": 109,
   "id": "domestic-instruction",
   "metadata": {},
   "outputs": [
    {
     "data": {
      "text/plain": [
       "False"
      ]
     },
     "execution_count": 109,
     "metadata": {},
     "output_type": "execute_result"
    }
   ],
   "source": [
    "a = 3 + 4j\n",
    "b = 3 + 4j\n",
    "a != b"
   ]
  },
  {
   "cell_type": "code",
   "execution_count": 111,
   "id": "amber-chambers",
   "metadata": {},
   "outputs": [],
   "source": [
    "a = 3 + 4j\n",
    "b = 3 + 4j\n"
   ]
  },
  {
   "cell_type": "markdown",
   "id": "prime-preserve",
   "metadata": {},
   "source": [
    "## Logical Operator"
   ]
  },
  {
   "cell_type": "code",
   "execution_count": null,
   "id": "exciting-flush",
   "metadata": {},
   "outputs": [],
   "source": [
    "1. and\n",
    "2. or\n",
    "\n",
    "1. and operator:\n",
    "    \n",
    "True and True   >> True\n",
    "True and False  >> False\n",
    "False and True  >> False \n",
    "False and False >> False\n",
    "\n",
    "2. or Operator:\n",
    "True or True   >> True\n",
    "True or False  >> True\n",
    "False or True  >> True \n",
    "False and False >> False  \n"
   ]
  },
  {
   "cell_type": "code",
   "execution_count": 113,
   "id": "formal-regard",
   "metadata": {},
   "outputs": [
    {
     "name": "stdout",
     "output_type": "stream",
     "text": [
      "a is greater than b and c\n"
     ]
    }
   ],
   "source": [
    "a = 50\n",
    "b = 6\n",
    "c = 7\n",
    "\n",
    "if a > b and a > c: # True and True >> True\n",
    "    print(\"a is greater than b and c\")"
   ]
  },
  {
   "cell_type": "code",
   "execution_count": 115,
   "id": "authorized-concentrate",
   "metadata": {},
   "outputs": [],
   "source": [
    "a = 50\n",
    "b = 60\n",
    "c = 7\n",
    "\n",
    "if a > b and a > c: # False and True >> False\n",
    "    print(\"a is greater than b and c\")"
   ]
  },
  {
   "cell_type": "code",
   "execution_count": null,
   "id": "subjective-worker",
   "metadata": {},
   "outputs": [],
   "source": [
    "a = 50\n",
    "b = 60\n",
    "c = 7\n",
    "d = 8\n",
    "if a > b and a > c and a > d:  # False and True and True >> False\n",
    "    print(\"a is greater than b,c and d\")"
   ]
  },
  {
   "cell_type": "code",
   "execution_count": 116,
   "id": "sized-iraqi",
   "metadata": {},
   "outputs": [],
   "source": [
    "a = 5\n",
    "b = 6\n",
    "c = 7\n",
    "\n",
    "if a > b or a > c:  # False or False >> False\n",
    "    print(\"a is greater than b and c\")"
   ]
  },
  {
   "cell_type": "code",
   "execution_count": 118,
   "id": "velvet-traffic",
   "metadata": {},
   "outputs": [
    {
     "name": "stdout",
     "output_type": "stream",
     "text": [
      "a is greater than b and c\n"
     ]
    }
   ],
   "source": [
    "a = 50\n",
    "b = 6\n",
    "c = 7\n",
    "\n",
    "if a > b or a > c:  # True or True >> True\n",
    "    print(\"a is greater than b and c\")"
   ]
  },
  {
   "cell_type": "code",
   "execution_count": 120,
   "id": "waiting-danish",
   "metadata": {},
   "outputs": [
    {
     "name": "stdout",
     "output_type": "stream",
     "text": [
      "a is greater than b and c\n"
     ]
    }
   ],
   "source": [
    "a = 50\n",
    "b = 60\n",
    "c = 7\n",
    "\n",
    "if a > b or a > c:  # False or True >> True\n",
    "    print(\"a is greater than b and c\")"
   ]
  },
  {
   "cell_type": "code",
   "execution_count": 122,
   "id": "fiscal-devices",
   "metadata": {},
   "outputs": [
    {
     "name": "stdout",
     "output_type": "stream",
     "text": [
      "a is greater than b and c\n"
     ]
    }
   ],
   "source": [
    "a = 50\n",
    "b = 60\n",
    "c = 7\n",
    "d = 8\n",
    "\n",
    "if a > b or a > c or a > d:  #  False or True or True\n",
    "    print(\"a is greater than b and c\")"
   ]
  },
  {
   "cell_type": "code",
   "execution_count": 124,
   "id": "advised-personal",
   "metadata": {},
   "outputs": [],
   "source": [
    "a = 50\n",
    "b = 60\n",
    "c = 7\n",
    "d = 8\n",
    "\n",
    "if a > b and a > c and a > d:  #  False and True and True\n",
    "    print(\"a is greater than b and c\")"
   ]
  },
  {
   "cell_type": "code",
   "execution_count": 125,
   "id": "rapid-poultry",
   "metadata": {},
   "outputs": [
    {
     "name": "stdout",
     "output_type": "stream",
     "text": [
      "a is greater than b and c\n"
     ]
    }
   ],
   "source": [
    "a = 50\n",
    "b = 60\n",
    "c = 7\n",
    "d = 8\n",
    "\n",
    "if (a > b or a > c) and a > d:  #  (True) and True >> True\n",
    "    print(\"a is greater than b and c\")"
   ]
  },
  {
   "cell_type": "code",
   "execution_count": 127,
   "id": "wound-qatar",
   "metadata": {},
   "outputs": [
    {
     "name": "stdout",
     "output_type": "stream",
     "text": [
      "c is largest number\n"
     ]
    }
   ],
   "source": [
    "a = 10\n",
    "b = 20\n",
    "c = 30\n",
    "\n",
    "if a > b and a > c:\n",
    "    print(\"a is largest number\")\n",
    "    \n",
    "elif b > a and b > c:\n",
    "    print(\"b is largest number\")\n",
    "    \n",
    "else:\n",
    "    print('c is largest number')"
   ]
  },
  {
   "cell_type": "code",
   "execution_count": 129,
   "id": "prime-bridge",
   "metadata": {},
   "outputs": [
    {
     "name": "stdout",
     "output_type": "stream",
     "text": [
      "a is largest number\n"
     ]
    }
   ],
   "source": [
    "a = 100\n",
    "b = 20\n",
    "c = 30\n",
    "\n",
    "if a > b and a > c:\n",
    "    print(\"a is largest number\")\n",
    "    \n",
    "elif b > a and b > c:\n",
    "    print(\"b is largest number\")\n",
    "    \n",
    "else:\n",
    "    print('c is largest number')"
   ]
  },
  {
   "cell_type": "code",
   "execution_count": 131,
   "id": "institutional-anger",
   "metadata": {},
   "outputs": [
    {
     "name": "stdout",
     "output_type": "stream",
     "text": [
      "b is largest number\n"
     ]
    }
   ],
   "source": [
    "a = 100\n",
    "b = 200\n",
    "c = 30\n",
    "\n",
    "if a > b and a > c:  # False and True >> False\n",
    "    print(\"a is largest number\")\n",
    "    \n",
    "elif b > a and b > c: # True and True >> True\n",
    "    print(\"b is largest number\")\n",
    "    \n",
    "else:\n",
    "    print('c is largest number')"
   ]
  },
  {
   "cell_type": "code",
   "execution_count": 136,
   "id": "scheduled-rabbit",
   "metadata": {},
   "outputs": [
    {
     "name": "stdout",
     "output_type": "stream",
     "text": [
      "c is largest number\n"
     ]
    }
   ],
   "source": [
    "a = 100\n",
    "b = 200\n",
    "c = 300\n",
    "\n",
    "if a > b and a > c:  #False\n",
    "    print(\"a is largest number\")\n",
    "    \n",
    "elif b > a and b > c: # False\n",
    "    print(\"b is largest number\")\n",
    "    \n",
    "else:\n",
    "    print('c is largest number')"
   ]
  },
  {
   "cell_type": "markdown",
   "id": "dying-discount",
   "metadata": {},
   "source": [
    "# User inputs"
   ]
  },
  {
   "cell_type": "code",
   "execution_count": 4,
   "id": "honey-installation",
   "metadata": {},
   "outputs": [
    {
     "name": "stdout",
     "output_type": "stream",
     "text": [
      "12\n",
      "12 <class 'int'>\n"
     ]
    }
   ],
   "source": [
    "a = input()\n",
    "a = int(a)\n",
    "print(a, type(a))"
   ]
  },
  {
   "cell_type": "code",
   "execution_count": 6,
   "id": "d14815a5",
   "metadata": {},
   "outputs": [
    {
     "name": "stdout",
     "output_type": "stream",
     "text": [
      "10\n",
      "10 <class 'str'>\n"
     ]
    }
   ],
   "source": [
    "a = input()\n",
    "\n",
    "print(a, type(a))"
   ]
  },
  {
   "cell_type": "code",
   "execution_count": 140,
   "id": "cross-current",
   "metadata": {},
   "outputs": [
    {
     "name": "stdout",
     "output_type": "stream",
     "text": [
      "90\n",
      "90 <class 'int'>\n"
     ]
    }
   ],
   "source": [
    "a = int(input())\n",
    "\n",
    "print(a, type(a))"
   ]
  },
  {
   "cell_type": "code",
   "execution_count": 143,
   "id": "pregnant-anniversary",
   "metadata": {},
   "outputs": [
    {
     "data": {
      "text/plain": [
       "90"
      ]
     },
     "execution_count": 143,
     "metadata": {},
     "output_type": "execute_result"
    }
   ],
   "source": [
    "int('90')"
   ]
  },
  {
   "cell_type": "code",
   "execution_count": 147,
   "id": "above-adult",
   "metadata": {},
   "outputs": [
    {
     "name": "stdout",
     "output_type": "stream",
     "text": [
      "Enter the value of a: 70\n",
      "70 <class 'int'>\n"
     ]
    }
   ],
   "source": [
    "a = int(input('Enter the value of a: '))\n",
    "\n",
    "print(a, type(a))"
   ]
  },
  {
   "cell_type": "code",
   "execution_count": 150,
   "id": "complete-crest",
   "metadata": {},
   "outputs": [
    {
     "name": "stdout",
     "output_type": "stream",
     "text": [
      "Enter the value of a: 3.14\n",
      "3.14 <class 'float'>\n"
     ]
    }
   ],
   "source": [
    "a = float(input('Enter the value of a: '))\n",
    "\n",
    "print(a, type(a))"
   ]
  },
  {
   "cell_type": "code",
   "execution_count": 153,
   "id": "graduate-effect",
   "metadata": {},
   "outputs": [
    {
     "data": {
      "text/plain": [
       "8.9"
      ]
     },
     "execution_count": 153,
     "metadata": {},
     "output_type": "execute_result"
    }
   ],
   "source": [
    "float('8.90')"
   ]
  },
  {
   "cell_type": "code",
   "execution_count": 156,
   "id": "balanced-boxing",
   "metadata": {},
   "outputs": [
    {
     "name": "stdout",
     "output_type": "stream",
     "text": [
      "Enter the value of a: 40\n",
      "Enter the value of b: 30\n",
      "Enter the value of c: 45\n",
      "c is largest number\n"
     ]
    }
   ],
   "source": [
    "a = int(input('Enter the value of a: '))\n",
    "b = int(input('Enter the value of b: '))\n",
    "c = int(input('Enter the value of c: '))\n",
    "\n",
    "if a > b and a > c:  #False\n",
    "    print(\"a is largest number\")\n",
    "    \n",
    "elif b > a and b > c: # False\n",
    "    print(\"b is largest number\")\n",
    "    \n",
    "else:\n",
    "    print('c is largest number')"
   ]
  },
  {
   "cell_type": "code",
   "execution_count": 159,
   "id": "minor-chase",
   "metadata": {},
   "outputs": [
    {
     "name": "stdout",
     "output_type": "stream",
     "text": [
      "c is largest number\n"
     ]
    }
   ],
   "source": [
    "a = 100\n",
    "b = 100\n",
    "c = 30\n",
    "\n",
    "if a > b and a > c:  #False\n",
    "    print(\"a is largest number\")\n",
    "    \n",
    "elif b > a and b > c: # False\n",
    "    print(\"b is largest number\")\n",
    "    \n",
    "else:\n",
    "    print('c is largest number')"
   ]
  },
  {
   "cell_type": "markdown",
   "id": "associate-disclaimer",
   "metadata": {},
   "source": [
    "# Nested if-else statements"
   ]
  },
  {
   "cell_type": "code",
   "execution_count": null,
   "id": "adopted-certification",
   "metadata": {},
   "outputs": [],
   "source": [
    "if statement inside if statement"
   ]
  },
  {
   "cell_type": "code",
   "execution_count": 165,
   "id": "norwegian-doctrine",
   "metadata": {},
   "outputs": [
    {
     "name": "stdout",
     "output_type": "stream",
     "text": [
      "a is greater than 50\n",
      "a is greater than 70\n",
      "a is greater than 75\n"
     ]
    }
   ],
   "source": [
    "a = 80\n",
    "if a > 50: # True\n",
    "    print(\"a is greater than 50\")\n",
    "    \n",
    "    if a > 70: # True\n",
    "        print(\"a is greater than 70\")\n",
    "        \n",
    "        if a > 75: # True\n",
    "            print('a is greater than 75')"
   ]
  },
  {
   "cell_type": "code",
   "execution_count": 167,
   "id": "concrete-message",
   "metadata": {},
   "outputs": [
    {
     "name": "stdout",
     "output_type": "stream",
     "text": [
      "a is greater than 50\n",
      "a is greater than 70\n",
      "a is greater than 75\n"
     ]
    }
   ],
   "source": [
    "a = 80\n",
    "if a > 50: # True\n",
    "    print(\"a is greater than 50\")\n",
    "    \n",
    "    if a > 70: # False\n",
    "        print(\"a is greater than 70\")\n",
    "        \n",
    "        if a > 75: # True\n",
    "            print('a is greater than 75')\n",
    "    else:\n",
    "        print(\"a is less than 70\")"
   ]
  },
  {
   "cell_type": "code",
   "execution_count": 171,
   "id": "cellular-testament",
   "metadata": {},
   "outputs": [
    {
     "name": "stdout",
     "output_type": "stream",
     "text": [
      "a is greater than 50\n",
      "a is less than 70\n"
     ]
    }
   ],
   "source": [
    "a = 60\n",
    "if a > 50: # True\n",
    "    print(\"a is greater than 50\")\n",
    "    \n",
    "    if a > 70: # False\n",
    "        print(\"a is greater than 70\")\n",
    "        \n",
    "        if a > 75: # True\n",
    "            print('a is greater than 75')\n",
    "    else:\n",
    "        print(\"a is less than 70\")\n",
    "        \n",
    "else:\n",
    "    print('a is less than or equal to 50')"
   ]
  },
  {
   "cell_type": "code",
   "execution_count": 173,
   "id": "latter-following",
   "metadata": {},
   "outputs": [
    {
     "name": "stdout",
     "output_type": "stream",
     "text": [
      "a is greater than 50\n",
      "a is greater than 70\n",
      "a is less than 75\n"
     ]
    }
   ],
   "source": [
    "a = 74\n",
    "if a > 50: # True\n",
    "    print(\"a is greater than 50\")\n",
    "    \n",
    "    if a > 70: # True\n",
    "        print(\"a is greater than 70\")\n",
    "        \n",
    "        if a > 75: # False\n",
    "            print('a is greater than 75')\n",
    "        else:\n",
    "            print('a is less than 75')\n",
    "            \n",
    "    else:\n",
    "        print(\"a is less than 70\")\n",
    "        \n",
    "else:\n",
    "    print('a is less than or equal to 50')"
   ]
  },
  {
   "cell_type": "code",
   "execution_count": 175,
   "id": "exotic-facial",
   "metadata": {},
   "outputs": [
    {
     "name": "stdout",
     "output_type": "stream",
     "text": [
      "a is greater than 50\n",
      "a is greater than 70\n",
      "a is greater than 75\n"
     ]
    }
   ],
   "source": [
    "a = 90\n",
    "if a > 50: # True\n",
    "    print(\"a is greater than 50\")\n",
    "    \n",
    "    if a > 70: # True\n",
    "        print(\"a is greater than 70\")\n",
    "        \n",
    "        if a > 75: # True\n",
    "            print('a is greater than 75')\n",
    "        else:\n",
    "            print('a is less than 75')\n",
    "            \n",
    "    else:\n",
    "        print(\"a is less than 70\")\n",
    "        \n",
    "else:\n",
    "    print('a is less than or equal to 50')"
   ]
  },
  {
   "cell_type": "code",
   "execution_count": 1,
   "id": "raised-cement",
   "metadata": {},
   "outputs": [
    {
     "name": "stdout",
     "output_type": "stream",
     "text": [
      "a is greater than 50\n",
      "a is greater than 70\n",
      "a is greater than 75\n"
     ]
    }
   ],
   "source": [
    "a = 90\n",
    "if a > 50: # True\n",
    "    print(\"a is greater than 50\")\n",
    "    \n",
    "    if a > 70: # True\n",
    "        print(\"a is greater than 70\")\n",
    "        \n",
    "        if a > 75: # True\n",
    "            print('a is greater than 75')\n",
    "        else:\n",
    "            print('a is less than 75')\n",
    "            \n",
    "    else:\n",
    "        print(\"a is less than 70\")\n",
    "        \n",
    "else:\n",
    "    print('a is less than or equal to 50')"
   ]
  },
  {
   "cell_type": "code",
   "execution_count": 4,
   "id": "figured-water",
   "metadata": {},
   "outputs": [
    {
     "name": "stdout",
     "output_type": "stream",
     "text": [
      "Cibil score is greater than or equal to 750\n",
      "Salary is more than 70000\n",
      "Age is in between 20 and 60\n",
      "Approved\n"
     ]
    }
   ],
   "source": [
    "age = 25\n",
    "cibil_score = 780\n",
    "salary = 80000\n",
    "# loan >> Approve /Decline\n",
    "\n",
    "if cibil_score >= 750: # True\n",
    "    print(\"Cibil score is greater than or equal to 750\")\n",
    "    \n",
    "    if salary >= 70000: # True\n",
    "        print(\"Salary is more than 70000\")\n",
    "        \n",
    "        if age >= 20 and age <= 60: # True\n",
    "            print(\"Age is in between 20 and 60\")\n",
    "            print(\"Approved\")\n",
    "            \n",
    "        else:\n",
    "            print(\"Declined\")\n",
    "    else:\n",
    "        print(\"Declined\")\n",
    "else:\n",
    "    print(\"Declined\")"
   ]
  },
  {
   "cell_type": "code",
   "execution_count": 182,
   "id": "exciting-buying",
   "metadata": {},
   "outputs": [
    {
     "name": "stdout",
     "output_type": "stream",
     "text": [
      "Cibil score is greater than or equal to 750\n",
      "Declined due to salary 50000\n"
     ]
    }
   ],
   "source": [
    "age = 25\n",
    "cibil_score = 780\n",
    "salary = 50000\n",
    "# loan >> Approve /Decline\n",
    "\n",
    "if cibil_score >= 750: # True\n",
    "    print(\"Cibil score is greater than or equal to 750\")\n",
    "    \n",
    "    if salary >= 70000: # False\n",
    "        print(\"Salary is more than 70000\")\n",
    "        \n",
    "        if age >= 20 and age <= 60: # True\n",
    "            print(\"Age is in between 20 and 60\")\n",
    "            print(\"Approved\")\n",
    "            \n",
    "        else:\n",
    "            print(\"Declined due to age\",age)\n",
    "    else:\n",
    "        print(\"Declined due to salary\",salary)\n",
    "else:\n",
    "    print(\"Declined due to cibil score\",cibil_score)"
   ]
  },
  {
   "cell_type": "code",
   "execution_count": 185,
   "id": "intellectual-chester",
   "metadata": {},
   "outputs": [
    {
     "name": "stdout",
     "output_type": "stream",
     "text": [
      "Cibil score is greater than or equal to 750\n",
      "Salary is more than 70000\n",
      "Declined due to age criteria 65\n"
     ]
    }
   ],
   "source": [
    "age = 65\n",
    "cibil_score = 800\n",
    "salary = 90000\n",
    "# loan >> Approve /Decline\n",
    "\n",
    "if cibil_score >= 750: # True\n",
    "    print(\"Cibil score is greater than or equal to 750\")\n",
    "    \n",
    "    if salary >= 70000: # True\n",
    "        print(\"Salary is more than 70000\")\n",
    "        \n",
    "        if age >= 20 and age <= 60: # True and False >> False\n",
    "            print(\"Age is in between 20 and 60\")\n",
    "            print(\"Approved\")\n",
    "            \n",
    "        else:\n",
    "            print(\"Declined due to age criteria\",age)\n",
    "    else:\n",
    "        print(\"Declined due to salary\",salary)\n",
    "else:\n",
    "    print(\"Declined due to cibil score\",cibil_score)"
   ]
  },
  {
   "cell_type": "code",
   "execution_count": 186,
   "id": "fewer-leone",
   "metadata": {},
   "outputs": [
    {
     "name": "stdout",
     "output_type": "stream",
     "text": [
      "Cibil score is greater than or equal to 750\n",
      "Salary is more than 70000\n",
      "Declined due to age criteria 65\n"
     ]
    }
   ],
   "source": [
    "age = 65\n",
    "cibil_score = 800\n",
    "salary = 90000\n",
    "# loan >> Approve /Decline\n",
    "\n",
    "if cibil_score >= 750: # True\n",
    "    print(\"Cibil score is greater than or equal to 750\")\n",
    "    \n",
    "    if salary >= 70000: # True\n",
    "        print(\"Salary is more than 70000\")\n",
    "        \n",
    "        if age >= 20 and age <= 60: # True and False >> False\n",
    "            print(\"Age is in between 20 and 60\")\n",
    "            print(\"Approved\")\n",
    "            \n",
    "        else:\n",
    "            print(\"Declined due to age criteria\",age)\n",
    "    else:\n",
    "        print(\"Declined due to salary\",salary)\n",
    "else:\n",
    "    print(\"Declined due to cibil score\",cibil_score)"
   ]
  },
  {
   "cell_type": "code",
   "execution_count": null,
   "id": "herbal-surgery",
   "metadata": {},
   "outputs": [],
   "source": [
    "age = 65\n",
    "cibil_score = 800\n",
    "salary = 90000\n",
    "# loan >> Approve /Decline\n",
    "\n",
    "if cibil_score >= 750: # True\n",
    "    print(\"Cibil score is greater than or equal to 750\")\n",
    "    \n",
    "    if salary >= 70000: # True\n",
    "        print(\"Salary is more than 70000\")\n",
    "        \n",
    "        if age >= 20 and age <= 60: # True and False >> False\n",
    "            print(\"Age is in between 20 and 60\")\n",
    "            print(\"Approved\")\n",
    "            \n",
    "        else:\n",
    "            print(\"Declined due to age criteria\",age)\n",
    "    else:\n",
    "        print(\"Declined due to salary\",salary)\n",
    "else:\n",
    "    print(\"Declined due to cibil score\",cibil_score)"
   ]
  },
  {
   "cell_type": "code",
   "execution_count": 188,
   "id": "oriented-berkeley",
   "metadata": {},
   "outputs": [
    {
     "name": "stdout",
     "output_type": "stream",
     "text": [
      "Cibil score is greater than or equal to 750\n",
      "Salary is more than 70000\n",
      "Declined due to age criteria 65\n"
     ]
    }
   ],
   "source": [
    "age = 65\n",
    "cibil_score = 800\n",
    "salary = 90000\n",
    "# loan >> Approve /Decline\n",
    "\n",
    "if cibil_score >= 750: # True\n",
    "    print(\"Cibil score is greater than or equal to 750\")\n",
    "    \n",
    "    if salary >= 70000: # True\n",
    "        print(\"Salary is more than 70000\")\n",
    "        \n",
    "        if age >= 20 and age <= 60: # True and False >> False\n",
    "            print(\"Age is in between 20 and 60\")\n",
    "            print(\"Approved\")\n",
    "            \n",
    "        else:\n",
    "            print(\"Declined due to age criteria\",age)\n",
    "    else:\n",
    "        print(\"Declined due to salary\",salary)\n",
    "else:\n",
    "    print(\"Declined due to cibil score\",cibil_score)"
   ]
  },
  {
   "cell_type": "code",
   "execution_count": 189,
   "id": "passing-evaluation",
   "metadata": {},
   "outputs": [
    {
     "ename": "SyntaxError",
     "evalue": "invalid syntax (<ipython-input-189-48b19c2ef5ae>, line 1)",
     "output_type": "error",
     "traceback": [
      "\u001b[1;36m  File \u001b[1;32m\"<ipython-input-189-48b19c2ef5ae>\"\u001b[1;36m, line \u001b[1;32m1\u001b[0m\n\u001b[1;33m    elif 6>5:\u001b[0m\n\u001b[1;37m    ^\u001b[0m\n\u001b[1;31mSyntaxError\u001b[0m\u001b[1;31m:\u001b[0m invalid syntax\n"
     ]
    }
   ],
   "source": [
    "elif 6>5:\n",
    "    print()"
   ]
  },
  {
   "cell_type": "code",
   "execution_count": 191,
   "id": "hawaiian-syndication",
   "metadata": {},
   "outputs": [
    {
     "name": "stdout",
     "output_type": "stream",
     "text": [
      "Age : 30\n",
      "CIBIL : 800\n",
      "Salary : 85000\n",
      "Cibil score is greater than or equal to 750\n",
      "Salary is more than 70000\n",
      "Age is in between 20 and 60\n",
      "Approved\n"
     ]
    }
   ],
   "source": [
    "age = int(input(\"Age : \"))\n",
    "cibil_score = int(input(\"CIBIL : \"))\n",
    "salary = int(input(\"Salary : \"))\n",
    "# loan >> Approve /Decline\n",
    "\n",
    "if cibil_score >= 750: # True\n",
    "    print(\"Cibil score is greater than or equal to 750\")\n",
    "    \n",
    "    if salary >= 70000: # True\n",
    "        print(\"Salary is more than 70000\")\n",
    "        \n",
    "        if age >= 20 and age <= 60: # True and False >> False\n",
    "            print(\"Age is in between 20 and 60\")\n",
    "            print(\"Approved\")\n",
    "            \n",
    "        else:\n",
    "            print(\"Declined due to age criteria\",age)\n",
    "    else:\n",
    "        print(\"Declined due to salary\",salary)\n",
    "else:\n",
    "    print(\"Declined due to cibil score\",cibil_score)"
   ]
  },
  {
   "cell_type": "code",
   "execution_count": null,
   "id": "weekly-notification",
   "metadata": {},
   "outputs": [],
   "source": []
  }
 ],
 "metadata": {
  "kernelspec": {
   "display_name": "Python 3 (ipykernel)",
   "language": "python",
   "name": "python3"
  },
  "language_info": {
   "codemirror_mode": {
    "name": "ipython",
    "version": 3
   },
   "file_extension": ".py",
   "mimetype": "text/x-python",
   "name": "python",
   "nbconvert_exporter": "python",
   "pygments_lexer": "ipython3",
   "version": "3.9.12"
  }
 },
 "nbformat": 4,
 "nbformat_minor": 5
}
